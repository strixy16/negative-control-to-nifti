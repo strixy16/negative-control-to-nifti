{
 "cells": [
  {
   "cell_type": "code",
   "execution_count": 1,
   "metadata": {},
   "outputs": [],
   "source": [
    "from imgtools.io import read_dicom_series\n",
    "from readii.loaders import loadSegmentation\n",
    "from readii.image_processing import *\n",
    "from readii.negative_controls import *\n",
    "from readii.metadata import *\n",
    "import SimpleITK as sitk\n",
    "from joblib import Parallel, delayed\n",
    "from typing import Optional"
   ]
  },
  {
   "cell_type": "code",
   "execution_count": 4,
   "metadata": {},
   "outputs": [],
   "source": [
    "randomSeed = 10\n",
    "roiNames = None"
   ]
  },
  {
   "cell_type": "code",
   "execution_count": 10,
   "metadata": {},
   "outputs": [],
   "source": [
    "def negControlToNIFTI(ctImage, alignedROIImage, segmentationLabel, outputDir, \n",
    "                      negControlTypeList: Optional[list] = None, update=False, randomSeed=10):\n",
    "  \n",
    "    if negControlTypeList is None:\n",
    "        negControlTypeList = [\"shuffled_full\", \"randomized_full\", \"randomized_sampled_full\",\n",
    "                              \"shuffled_roi\", \"randomized_roi\", \"randomized_sampled_roi\",\n",
    "                              \"shuffled_non_roi\", \"randomized_non_roi\", \"randomized_sampled_non_roi\"]\n",
    "        \n",
    "    if not os.path.exists(outputDir):\n",
    "        os.makedirs(outputDir)\n",
    "\n",
    "    for controlType in negControlTypeList:\n",
    "        print(controlType)\n",
    "        outFileName = \"CT_\" + controlType + \".nii.gz\"\n",
    "        fullOutPath = os.path.join(outputDir, outFileName)\n",
    "\n",
    "        if os.path.exists(fullOutPath) and not update:\n",
    "            print(controlType, \" negative control already exists.\")\n",
    "        else:\n",
    "            negControlImage = applyNegativeControl(nc_type = controlType,\n",
    "                                                baseImage = ctImage,\n",
    "                                                baseROI = alignedROIImage,\n",
    "                                                roiLabel = segmentationLabel,\n",
    "                                                randomSeed = randomSeed)\n",
    "            sitk.WriteImage(negControlImage, fullOutPath)\n",
    "\n",
    "    return"
   ]
  },
  {
   "cell_type": "code",
   "execution_count": 6,
   "metadata": {},
   "outputs": [],
   "source": [
    "imageDirPath = \"/Users/katyscott/Documents/NSCLC_Radiogenomics/images/\"\n",
    "outputDir = \"/Users/katyscott/Documents/NSCLC_Radiogenomics/images/niftis/\"\n",
    "if not os.path.exists(outputDir):\n",
    "        print(\"Creating output directory:\", outputDir)\n",
    "        os.makedirs(outputDir)\n",
    "\n",
    "imageFileListPath = \"/Users/katyscott/Documents/NSCLC_Radiogenomics/images/.imgtools/imgtools_dicoms.csv\"\n",
    "pdImageInfo = matchCTtoSegmentation(imageFileListPath, segType = \"SEG\")"
   ]
  },
  {
   "cell_type": "code",
   "execution_count": 11,
   "metadata": {},
   "outputs": [],
   "source": [
    "ctSeriesIDList = pdImageInfo[\"series_CT\"].unique()"
   ]
  },
  {
   "cell_type": "code",
   "execution_count": 13,
   "metadata": {},
   "outputs": [
    {
     "name": "stdout",
     "output_type": "stream",
     "text": [
      "shuffled_full\n",
      "shuffled_full  negative control already exists.\n",
      "randomized_full\n",
      "randomized_full  negative control already exists.\n",
      "randomized_sampled_full\n",
      "randomized_sampled_full  negative control already exists.\n",
      "shuffled_roi\n",
      "randomized_roi\n",
      "randomized_sampled_roi\n",
      "shuffled_non_roi\n",
      "randomized_non_roi\n",
      "randomized_sampled_non_roi\n"
     ]
    },
    {
     "ename": "KeyboardInterrupt",
     "evalue": "",
     "output_type": "error",
     "traceback": [
      "\u001b[0;31m---------------------------------------------------------------------------\u001b[0m",
      "\u001b[0;31mKeyboardInterrupt\u001b[0m                         Traceback (most recent call last)",
      "Cell \u001b[0;32mIn[13], line 87\u001b[0m\n\u001b[1;32m     83\u001b[0m                     segmentationLabel \u001b[38;5;241m=\u001b[39m getROIVoxelLabel(alignedROIImage)\n\u001b[1;32m     85\u001b[0m                     completeOutputPath \u001b[38;5;241m=\u001b[39m os\u001b[38;5;241m.\u001b[39mpath\u001b[38;5;241m.\u001b[39mjoin(outputDir, patID) \n\u001b[0;32m---> 87\u001b[0m                     \u001b[43mnegControlToNIFTI\u001b[49m\u001b[43m(\u001b[49m\u001b[43mctImage\u001b[49m\u001b[43m,\u001b[49m\u001b[43m \u001b[49m\u001b[43malignedROIImage\u001b[49m\u001b[43m,\u001b[49m\u001b[43m \u001b[49m\u001b[43msegmentationLabel\u001b[49m\u001b[43m,\u001b[49m\u001b[43m \u001b[49m\u001b[43mcompleteOutputPath\u001b[49m\u001b[43m,\u001b[49m\u001b[43m \u001b[49m\u001b[43mrandomSeed\u001b[49m\u001b[38;5;241;43m=\u001b[39;49m\u001b[43mrandomSeed\u001b[49m\u001b[43m)\u001b[49m\n\u001b[1;32m     90\u001b[0m \u001b[38;5;66;03m## SHUFFLED ROI TAKES WAY TOO LONG WITH THE IMAGE AS IT IS, NEEDS TO BE CROPPED OR OPTIMIZED\u001b[39;00m\n",
      "Cell \u001b[0;32mIn[10], line 20\u001b[0m, in \u001b[0;36mnegControlToNIFTI\u001b[0;34m(ctImage, alignedROIImage, segmentationLabel, outputDir, negControlTypeList, update, randomSeed)\u001b[0m\n\u001b[1;32m     18\u001b[0m         \u001b[38;5;28mprint\u001b[39m(controlType, \u001b[38;5;124m\"\u001b[39m\u001b[38;5;124m negative control already exists.\u001b[39m\u001b[38;5;124m\"\u001b[39m)\n\u001b[1;32m     19\u001b[0m     \u001b[38;5;28;01melse\u001b[39;00m:\n\u001b[0;32m---> 20\u001b[0m         negControlImage \u001b[38;5;241m=\u001b[39m \u001b[43mapplyNegativeControl\u001b[49m\u001b[43m(\u001b[49m\u001b[43mnc_type\u001b[49m\u001b[43m \u001b[49m\u001b[38;5;241;43m=\u001b[39;49m\u001b[43m \u001b[49m\u001b[43mcontrolType\u001b[49m\u001b[43m,\u001b[49m\n\u001b[1;32m     21\u001b[0m \u001b[43m                                            \u001b[49m\u001b[43mbaseImage\u001b[49m\u001b[43m \u001b[49m\u001b[38;5;241;43m=\u001b[39;49m\u001b[43m \u001b[49m\u001b[43mctImage\u001b[49m\u001b[43m,\u001b[49m\n\u001b[1;32m     22\u001b[0m \u001b[43m                                            \u001b[49m\u001b[43mbaseROI\u001b[49m\u001b[43m \u001b[49m\u001b[38;5;241;43m=\u001b[39;49m\u001b[43m \u001b[49m\u001b[43malignedROIImage\u001b[49m\u001b[43m,\u001b[49m\n\u001b[1;32m     23\u001b[0m \u001b[43m                                            \u001b[49m\u001b[43mroiLabel\u001b[49m\u001b[43m \u001b[49m\u001b[38;5;241;43m=\u001b[39;49m\u001b[43m \u001b[49m\u001b[43msegmentationLabel\u001b[49m\u001b[43m,\u001b[49m\n\u001b[1;32m     24\u001b[0m \u001b[43m                                            \u001b[49m\u001b[43mrandomSeed\u001b[49m\u001b[43m \u001b[49m\u001b[38;5;241;43m=\u001b[39;49m\u001b[43m \u001b[49m\u001b[43mrandomSeed\u001b[49m\u001b[43m)\u001b[49m\n\u001b[1;32m     25\u001b[0m         sitk\u001b[38;5;241m.\u001b[39mWriteImage(negControlImage, fullOutPath)\n\u001b[1;32m     27\u001b[0m \u001b[38;5;28;01mreturn\u001b[39;00m\n",
      "File \u001b[0;32m~/Documents/readii/src/readii/negative_controls.py:623\u001b[0m, in \u001b[0;36mapplyNegativeControl\u001b[0;34m(nc_type, baseImage, baseROI, roiLabel, randomSeed)\u001b[0m\n\u001b[1;32m    620\u001b[0m     \u001b[38;5;28;01mreturn\u001b[39;00m makeRandomFromRoiDistribution(baseImage, baseROI, roiLabel, randomSeed)\n\u001b[1;32m    621\u001b[0m \u001b[38;5;28;01melif\u001b[39;00m nc_type \u001b[38;5;241m==\u001b[39m \u001b[38;5;124m\"\u001b[39m\u001b[38;5;124mrandomized_sampled_non_roi\u001b[39m\u001b[38;5;124m\"\u001b[39m:\n\u001b[1;32m    622\u001b[0m     \u001b[38;5;66;03m# Make negative control version of ctImage (random sampled pixels from original distribution outside ROI, same size)\u001b[39;00m\n\u001b[0;32m--> 623\u001b[0m     \u001b[38;5;28;01mreturn\u001b[39;00m \u001b[43mmakeRandomNonRoiFromDistribution\u001b[49m\u001b[43m(\u001b[49m\u001b[43mbaseImage\u001b[49m\u001b[43m,\u001b[49m\u001b[43m \u001b[49m\u001b[43mbaseROI\u001b[49m\u001b[43m,\u001b[49m\u001b[43m \u001b[49m\u001b[43mroiLabel\u001b[49m\u001b[43m,\u001b[49m\u001b[43m \u001b[49m\u001b[43mrandomSeed\u001b[49m\u001b[43m)\u001b[49m\n\u001b[1;32m    624\u001b[0m \u001b[38;5;28;01melse\u001b[39;00m:\n\u001b[1;32m    625\u001b[0m     \u001b[38;5;28;01mraise\u001b[39;00m \u001b[38;5;167;01mValueError\u001b[39;00m(\u001b[38;5;124m\"\u001b[39m\u001b[38;5;124mInvalid nc_type. Please choose a valid negative control type.\u001b[39m\u001b[38;5;124m\"\u001b[39m)\n",
      "File \u001b[0;32m~/Documents/readii/src/readii/negative_controls.py:551\u001b[0m, in \u001b[0;36mmakeRandomNonRoiFromDistribution\u001b[0;34m(***failed resolving arguments***)\u001b[0m\n\u001b[1;32m    543\u001b[0m \u001b[38;5;28;01mfor\u001b[39;00m z \u001b[38;5;129;01min\u001b[39;00m \u001b[38;5;28mrange\u001b[39m(baseImageSize[\u001b[38;5;241m2\u001b[39m]):\n\u001b[1;32m    544\u001b[0m     \u001b[38;5;28;01mif\u001b[39;00m (\n\u001b[1;32m    545\u001b[0m         x \u001b[38;5;241m>\u001b[39m baseROISize[\u001b[38;5;241m0\u001b[39m]\n\u001b[1;32m    546\u001b[0m         \u001b[38;5;129;01mor\u001b[39;00m y \u001b[38;5;241m>\u001b[39m baseROISize[\u001b[38;5;241m1\u001b[39m]\n\u001b[0;32m   (...)\u001b[0m\n\u001b[1;32m    549\u001b[0m     ):\n\u001b[1;32m    550\u001b[0m         \u001b[38;5;66;03m# Assigning the current value to the randomly sampled value from within the ROI\u001b[39;00m\n\u001b[0;32m--> 551\u001b[0m         mapped_value \u001b[38;5;241m=\u001b[39m \u001b[38;5;28mint\u001b[39m(\u001b[43mrandNumGen\u001b[49m\u001b[38;5;241;43m.\u001b[39;49m\u001b[43mchoice\u001b[49m\u001b[43m(\u001b[49m\u001b[43mdistributionROI\u001b[49m\u001b[43m)\u001b[49m)\n\u001b[1;32m    553\u001b[0m         \u001b[38;5;66;03m# Set the new pixel value\u001b[39;00m\n\u001b[1;32m    554\u001b[0m         new_base\u001b[38;5;241m.\u001b[39mSetPixel(x, y, z, mapped_value)\n",
      "File \u001b[0;32mnumpy/random/_generator.pyx:850\u001b[0m, in \u001b[0;36mnumpy.random._generator.Generator.choice\u001b[0;34m()\u001b[0m\n",
      "File \u001b[0;32mnumpy/random/_generator.pyx:624\u001b[0m, in \u001b[0;36mnumpy.random._generator.Generator.integers\u001b[0;34m()\u001b[0m\n",
      "File \u001b[0;32mnumpy/random/_bounded_integers.pyx:1315\u001b[0m, in \u001b[0;36mnumpy.random._bounded_integers._rand_int64\u001b[0;34m()\u001b[0m\n",
      "File \u001b[0;32m~/opt/miniconda3/envs/yarea/lib/python3.9/site-packages/numpy/core/fromnumeric.py:2974\u001b[0m, in \u001b[0;36m_prod_dispatcher\u001b[0;34m(a, axis, dtype, out, keepdims, initial, where)\u001b[0m\n\u001b[1;32m   2960\u001b[0m \u001b[38;5;250m    \u001b[39m\u001b[38;5;124;03m\"\"\"\u001b[39;00m\n\u001b[1;32m   2961\u001b[0m \u001b[38;5;124;03m    Return the minimum of an array or minimum along an axis.\u001b[39;00m\n\u001b[1;32m   2962\u001b[0m \n\u001b[0;32m   (...)\u001b[0m\n\u001b[1;32m   2968\u001b[0m \u001b[38;5;124;03m    ndarray.min : equivalent method\u001b[39;00m\n\u001b[1;32m   2969\u001b[0m \u001b[38;5;124;03m    \"\"\"\u001b[39;00m\n\u001b[1;32m   2970\u001b[0m     \u001b[38;5;28;01mreturn\u001b[39;00m _wrapreduction(a, np\u001b[38;5;241m.\u001b[39mminimum, \u001b[38;5;124m'\u001b[39m\u001b[38;5;124mmin\u001b[39m\u001b[38;5;124m'\u001b[39m, axis, \u001b[38;5;28;01mNone\u001b[39;00m, out,\n\u001b[1;32m   2971\u001b[0m                           keepdims\u001b[38;5;241m=\u001b[39mkeepdims, initial\u001b[38;5;241m=\u001b[39minitial, where\u001b[38;5;241m=\u001b[39mwhere)\n\u001b[0;32m-> 2974\u001b[0m \u001b[38;5;28;01mdef\u001b[39;00m \u001b[38;5;21m_prod_dispatcher\u001b[39m(a, axis\u001b[38;5;241m=\u001b[39m\u001b[38;5;28;01mNone\u001b[39;00m, dtype\u001b[38;5;241m=\u001b[39m\u001b[38;5;28;01mNone\u001b[39;00m, out\u001b[38;5;241m=\u001b[39m\u001b[38;5;28;01mNone\u001b[39;00m, keepdims\u001b[38;5;241m=\u001b[39m\u001b[38;5;28;01mNone\u001b[39;00m,\n\u001b[1;32m   2975\u001b[0m                      initial\u001b[38;5;241m=\u001b[39m\u001b[38;5;28;01mNone\u001b[39;00m, where\u001b[38;5;241m=\u001b[39m\u001b[38;5;28;01mNone\u001b[39;00m):\n\u001b[1;32m   2976\u001b[0m     \u001b[38;5;28;01mreturn\u001b[39;00m (a, out)\n\u001b[1;32m   2979\u001b[0m \u001b[38;5;129m@array_function_dispatch\u001b[39m(_prod_dispatcher)\n\u001b[1;32m   2980\u001b[0m \u001b[38;5;28;01mdef\u001b[39;00m \u001b[38;5;21mprod\u001b[39m(a, axis\u001b[38;5;241m=\u001b[39m\u001b[38;5;28;01mNone\u001b[39;00m, dtype\u001b[38;5;241m=\u001b[39m\u001b[38;5;28;01mNone\u001b[39;00m, out\u001b[38;5;241m=\u001b[39m\u001b[38;5;28;01mNone\u001b[39;00m, keepdims\u001b[38;5;241m=\u001b[39mnp\u001b[38;5;241m.\u001b[39m_NoValue,\n\u001b[1;32m   2981\u001b[0m          initial\u001b[38;5;241m=\u001b[39mnp\u001b[38;5;241m.\u001b[39m_NoValue, where\u001b[38;5;241m=\u001b[39mnp\u001b[38;5;241m.\u001b[39m_NoValue):\n",
      "\u001b[0;31mKeyboardInterrupt\u001b[0m: "
     ]
    }
   ],
   "source": [
    "for ctSeriesID in ctSeriesIDList:\n",
    "    ctSeriesInfo = pdImageInfo.loc[pdImageInfo[\"series_CT\"] == ctSeriesID]\n",
    "    patID = ctSeriesInfo.iloc[0][\"patient_ID\"]\n",
    "    \n",
    "    # Get absolute path to CT image files\n",
    "    ctDirPath = os.path.join(imageDirPath, ctSeriesInfo.iloc[0][\"folder_CT\"])\n",
    "\n",
    "    # Load CT by passing in specific series to find in a directory\n",
    "    ctImage = read_dicom_series(path=ctDirPath, series_id=ctSeriesID)\n",
    "\n",
    "    # Get list of segmentations to iterate over\n",
    "    segSeriesIDList = ctSeriesInfo[\"series_seg\"].unique()\n",
    "\n",
    "    for segCount, segSeriesID in enumerate(segSeriesIDList):\n",
    "            segSeriesInfo = ctSeriesInfo.loc[ctSeriesInfo[\"series_seg\"] == segSeriesID]\n",
    "\n",
    "            # Check that a single segmentation file is being processed\n",
    "            if len(segSeriesInfo) > 1:\n",
    "                # Check that if there are multiple rows that it's not due to a CT with subseries (this is fine, the whole series is loaded)\n",
    "                if not segSeriesInfo.duplicated(subset=[\"series_CT\"], keep=False).all():\n",
    "                    raise RuntimeError(\n",
    "                        \"Some kind of duplication of segmentation and CT matches not being caught. Check seg_and_ct_dicom_list in radiogenomic_output.\"\n",
    "                    )\n",
    "\n",
    "            # Get absolute path to segmentation image file\n",
    "            segFilePath = os.path.join(\n",
    "                imageDirPath, segSeriesInfo.iloc[0][\"file_path_seg\"]\n",
    "            )\n",
    "            # Get dictionary of ROI sitk Images for this segmentation file\n",
    "            segImages = loadSegmentation(\n",
    "                segFilePath,\n",
    "                modality=segSeriesInfo.iloc[0][\"modality_seg\"],\n",
    "                baseImageDirPath=ctDirPath,\n",
    "                roiNames=roiNames,\n",
    "            )\n",
    "\n",
    "            # Check that this series has ROIs to extract from (dictionary isn't empty)\n",
    "            if not segImages:\n",
    "                print(\n",
    "                    \"CT \",\n",
    "                    ctSeriesID,\n",
    "                    \"and segmentation \",\n",
    "                    segSeriesID,\n",
    "                    \" has no ROIs or no ROIs with the label \",\n",
    "                    roiNames,\n",
    "                    \". Moving to next segmentation.\",\n",
    "                )\n",
    "\n",
    "            else:\n",
    "                # Loop over each ROI contained in the segmentation to perform radiomic feature extraction\n",
    "                for roiCount, roiImageName in enumerate(segImages):\n",
    "                    # Get sitk Image object for this ROI\n",
    "                    roiImage = segImages[roiImageName]\n",
    "\n",
    "                    # Exception catch for if the segmentation dimensions do not match that original image\n",
    "                    try:\n",
    "                        # Check if segmentation just has an extra axis with a size of 1 and remove it\n",
    "                        if roiImage.GetDimension() > 3 and roiImage.GetSize()[3] == 1:\n",
    "                            roiImage = flattenImage(roiImage)\n",
    "\n",
    "                        # Check that image and segmentation mask have the same dimensions\n",
    "                        if ctImage.GetSize() != roiImage.GetSize():\n",
    "                            # Checking if number of segmentation slices is less than CT\n",
    "                            if ctImage.GetSize()[2] > roiImage.GetSize()[2]:\n",
    "                                print(\n",
    "                                    \"Slice number mismatch between CT and segmentation for\",\n",
    "                                    patID,\n",
    "                                    \". Padding segmentation to match.\",\n",
    "                                )\n",
    "                                roiImage = padSegToMatchCT(\n",
    "                                    ctDirPath, segFilePath, ctImage, roiImage\n",
    "                                )\n",
    "                            else:\n",
    "                                raise RuntimeError(\n",
    "                                    \"CT and ROI dimensions do not match.\"\n",
    "                                )\n",
    "\n",
    "                    # Catching CT and segmentation size mismatch error\n",
    "                    except RuntimeError as e:\n",
    "                        print(str(e))\n",
    "\n",
    "                    alignedROIImage = alignImages(ctImage, roiImage)\n",
    "                    segmentationLabel = getROIVoxelLabel(alignedROIImage)\n",
    "\n",
    "                    completeOutputPath = os.path.join(outputDir, patID) \n",
    "                    \n",
    "                    negControlToNIFTI(ctImage, alignedROIImage, segmentationLabel, completeOutputPath, randomSeed=randomSeed)\n",
    "    \n",
    "                    \n",
    "## SHUFFLED ROI TAKES WAY TOO LONG WITH THE IMAGE AS IT IS, NEEDS TO BE CROPPED OR OPTIMIZED"
   ]
  },
  {
   "cell_type": "code",
   "execution_count": 22,
   "metadata": {},
   "outputs": [
    {
     "data": {
      "text/plain": [
       "'/Users/katyscott/Documents/NSCLC_Radiogenomics/images/niftis/R01-001'"
      ]
     },
     "execution_count": 22,
     "metadata": {},
     "output_type": "execute_result"
    }
   ],
   "source": [
    "os.path.join(outputDir, patID)"
   ]
  },
  {
   "cell_type": "markdown",
   "metadata": {},
   "source": []
  },
  {
   "cell_type": "code",
   "execution_count": 12,
   "metadata": {},
   "outputs": [
    {
     "ename": "NameError",
     "evalue": "name 'elapsed' is not defined",
     "output_type": "error",
     "traceback": [
      "\u001b[0;31m---------------------------------------------------------------------------\u001b[0m",
      "\u001b[0;31mNameError\u001b[0m                                 Traceback (most recent call last)",
      "Cell \u001b[0;32mIn[12], line 4\u001b[0m\n\u001b[1;32m      1\u001b[0m \u001b[38;5;28;01mimport\u001b[39;00m \u001b[38;5;21;01mdatetime\u001b[39;00m\n\u001b[1;32m      2\u001b[0m \u001b[38;5;28;01mimport\u001b[39;00m \u001b[38;5;21;01mtime\u001b[39;00m\n\u001b[0;32m----> 4\u001b[0m datetime\u001b[38;5;241m.\u001b[39mtimedelta(seconds\u001b[38;5;241m=\u001b[39m\u001b[43melapsed\u001b[49m)\n",
      "\u001b[0;31mNameError\u001b[0m: name 'elapsed' is not defined"
     ]
    }
   ],
   "source": [
    "import datetime\n",
    "import time\n",
    "\n",
    "# datetime.timedelta(seconds=elapsed)"
   ]
  },
  {
   "cell_type": "code",
   "execution_count": 15,
   "metadata": {},
   "outputs": [
    {
     "name": "stdout",
     "output_type": "stream",
     "text": [
      "Testing\n",
      "0:00:12.606812\n"
     ]
    }
   ],
   "source": [
    "start = time.time()\n",
    "print(\"Testing\")\n",
    "end = time.time()\n",
    "\n",
    "print(datetime.timedelta(time.time() - start))"
   ]
  },
  {
   "cell_type": "code",
   "execution_count": null,
   "metadata": {},
   "outputs": [],
   "source": []
  }
 ],
 "metadata": {
  "kernelspec": {
   "display_name": "readii",
   "language": "python",
   "name": "python3"
  },
  "language_info": {
   "codemirror_mode": {
    "name": "ipython",
    "version": 3
   },
   "file_extension": ".py",
   "mimetype": "text/x-python",
   "name": "python",
   "nbconvert_exporter": "python",
   "pygments_lexer": "ipython3",
   "version": "3.9.18"
  }
 },
 "nbformat": 4,
 "nbformat_minor": 2
}
